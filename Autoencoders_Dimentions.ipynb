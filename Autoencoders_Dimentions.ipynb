{
 "cells": [
  {
   "cell_type": "code",
   "execution_count": 1,
   "metadata": {
    "collapsed": true
   },
   "outputs": [],
   "source": [
    "import tensorflow as tf"
   ]
  },
  {
   "cell_type": "code",
   "execution_count": 3,
   "metadata": {
    "collapsed": true
   },
   "outputs": [],
   "source": [
    "def fit(self, N_dim):\n",
    "    graph = tf.Graph()\n",
    "    with graph.as_default():\n",
    "        \n",
    "        X = tf.placeholder(self.dtype, shape=(None, self.features.shape[1]))\n",
    "        \n",
    "        encoder_weights = tf.Variable(tf.random_normal(shape=(self.feature.shape[1], N_dim)))\n",
    "        encoder_bias = tf.Variable(tf.zeros(shape=[N_dim]))\n",
    "        \n",
    "        decoder_weights = encoder_weights = tf.Variable(tf.random_normal(shape=(N_dim, self.feature.shape[1])))\n",
    "        decoder_bias = tf.Variable(tf.zeros(shape=[self.feature.shape[1]]))\n",
    "        \n",
    "        encoding = tf.nn.sigmoid(tf.add(tf.mul(X, encoder_weights),encoder_bias))\n",
    "        \n",
    "        Y = tf.nn.sigmoid(tf.add(tf.mul(encoding, decoder_weights),decoder_bias))\n",
    "        \n",
    "        cost = tf.reduce_mean(tf.pow(tf.subtract(Y,X),2))\n",
    "        \n",
    "        optimizer = tf.train.AdamOptimizer().minimize(cost)\n",
    "    \n",
    "    with tf.Session(graph=graph) as session:\n",
    "        \n",
    "        session.run(tf.global_variables_initializer())\n",
    "        \n",
    "        for batch_x in batch_generator(self.features):\n",
    "            self.encoder['weights'], self.encoder['bias'], _ = session.run([encoder_weights, encoder_bias, optimizer], feed_dict={X:batch_X})"
   ]
  },
  {
   "cell_type": "code",
   "execution_count": null,
   "metadata": {
    "collapsed": true
   },
   "outputs": [],
   "source": [
    "def reduce(self):\n",
    "    return np.add(np.matmul(self.features, self.encoder['weights']), self.encoder['bias'])"
   ]
  }
 ],
 "metadata": {
  "anaconda-cloud": {},
  "kernelspec": {
   "display_name": "Python [default]",
   "language": "python",
   "name": "python3"
  },
  "language_info": {
   "codemirror_mode": {
    "name": "ipython",
    "version": 3
   },
   "file_extension": ".py",
   "mimetype": "text/x-python",
   "name": "python",
   "nbconvert_exporter": "python",
   "pygments_lexer": "ipython3",
   "version": "3.5.2"
  }
 },
 "nbformat": 4,
 "nbformat_minor": 1
}
