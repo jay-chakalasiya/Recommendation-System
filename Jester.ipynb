{
 "cells": [
  {
   "cell_type": "code",
   "execution_count": 1,
   "metadata": {
    "collapsed": true
   },
   "outputs": [],
   "source": [
    "import pandas as pd\n",
    "import numpy as np\n",
    "import pickle"
   ]
  },
  {
   "cell_type": "code",
   "execution_count": 2,
   "metadata": {
    "collapsed": false
   },
   "outputs": [],
   "source": [
    "Data_One = pd.read_csv(\"jester-data-1.csv\")\n",
    "No_One = np.array(Data_One['H'])\n",
    "del Data_One['H']\n",
    "Data_One = np.array(Data_One)\n",
    "Data_Two = pd.read_csv(\"jester-data-2.csv\")\n",
    "No_Two = np.array(Data_Two['H'])\n",
    "del Data_Two['H']\n",
    "Data_Two = np.array(Data_Two)\n",
    "Data_Three = pd.read_csv(\"jester-data-3.csv\")\n",
    "No_Three = np.array(Data_Three['H'])\n",
    "del Data_Three['H']\n",
    "Data_Three = np.array(Data_Three)\n"
   ]
  },
  {
   "cell_type": "code",
   "execution_count": 3,
   "metadata": {
    "collapsed": false
   },
   "outputs": [],
   "source": [
    "Data = np.concatenate((Data_One,Data_Two),axis=0)\n",
    "Data = np.concatenate((Data,Data_Three),axis=0)\n",
    "Jokes = np.concatenate((No_One,No_Two),axis=0)\n",
    "Jokes = np.concatenate((Jokes,No_Three),axis=0)"
   ]
  },
  {
   "cell_type": "code",
   "execution_count": 4,
   "metadata": {
    "collapsed": false
   },
   "outputs": [],
   "source": [
    "ls = { \"No_Of_Jokes\":Jokes, \"Ratings\":Data }\n",
    "pickle.dump(ls, open( \"Jester_Dataset\", \"wb\" ) )"
   ]
  },
  {
   "cell_type": "code",
   "execution_count": 5,
   "metadata": {
    "collapsed": false,
    "scrolled": true
   },
   "outputs": [
    {
     "data": {
      "text/plain": [
       "array([[ -7.82,   8.79,  -9.66, ...,  99.  ,  99.  ,  99.  ],\n",
       "       [  4.08,  -0.29,   6.36, ...,   0.34,  -4.32,   1.07],\n",
       "       [ 99.  ,  99.  ,  99.  , ...,  99.  ,  99.  ,  99.  ],\n",
       "       ..., \n",
       "       [ 99.  ,  99.  ,  99.  , ...,  99.  ,  99.  ,  99.  ],\n",
       "       [ 99.  ,  99.  ,  99.  , ...,  99.  ,  99.  ,  99.  ],\n",
       "       [ 99.  ,  99.  ,  99.  , ...,  99.  ,  99.  ,  99.  ]])"
      ]
     },
     "execution_count": 5,
     "metadata": {},
     "output_type": "execute_result"
    }
   ],
   "source": [
    "ls['Ratings']"
   ]
  },
  {
   "cell_type": "code",
   "execution_count": 6,
   "metadata": {
    "collapsed": false
   },
   "outputs": [
    {
     "data": {
      "text/plain": [
       "(73421, 100)"
      ]
     },
     "execution_count": 6,
     "metadata": {},
     "output_type": "execute_result"
    }
   ],
   "source": [
    "ls['Ratings'].shape"
   ]
  },
  {
   "cell_type": "code",
   "execution_count": 7,
   "metadata": {
    "collapsed": false
   },
   "outputs": [],
   "source": [
    "Test_List=[]\n",
    "Train_List=[]\n",
    "for _ in range(len(ls['Ratings'])):\n",
    "    if np.count_nonzero(ls['Ratings'][_]==99.0) <=25:\n",
    "        Test_List.append(ls['Ratings'][_])\n",
    "    else:\n",
    "        Train_List.append(ls['Ratings'][_])\n",
    "Test_List = np.array(Test_List)\n",
    "Train_List = np.array(Train_List)"
   ]
  },
  {
   "cell_type": "code",
   "execution_count": 8,
   "metadata": {
    "collapsed": false
   },
   "outputs": [
    {
     "data": {
      "text/plain": [
       "(54618, 100)"
      ]
     },
     "execution_count": 8,
     "metadata": {},
     "output_type": "execute_result"
    }
   ],
   "source": [
    "Train_List.shape"
   ]
  },
  {
   "cell_type": "code",
   "execution_count": 9,
   "metadata": {
    "collapsed": false
   },
   "outputs": [
    {
     "data": {
      "text/plain": [
       "array([ 4.08, -0.29,  6.36,  4.37, -2.38, -9.66, -0.73, -5.34,  8.88,\n",
       "        9.22,  6.75,  8.64,  4.42,  7.43,  4.56, -0.97,  4.66, -0.68,\n",
       "        3.3 , -1.21,  0.87,  8.64,  8.35,  9.17,  0.05,  7.57,  4.71,\n",
       "        0.87, -0.39,  6.99,  6.5 , -0.92,  7.14,  9.03, -1.8 ,  0.73,\n",
       "        7.09,  3.4 , -0.87,  7.91,  7.82, -3.83,  8.64,  8.98, -4.32,\n",
       "       -3.2 , -4.9 , -0.92, -1.46,  3.64,  3.16,  9.03,  0.97, -1.31,\n",
       "       -6.5 , -3.2 ,  8.64, -2.14,  0.1 ,  9.03, -6.7 , -3.35, -9.03,\n",
       "        4.47,  4.08, -3.83,  8.74,  1.12,  0.78,  7.52, -5.  ,  2.77,\n",
       "        8.3 ,  7.77,  7.33,  6.21,  7.72,  8.98,  8.64,  8.2 ,  3.93,\n",
       "        4.85,  4.85,  6.07,  8.98,  4.51, -0.05,  3.69,  4.56,  0.58,\n",
       "        2.82, -4.95, -0.29,  7.86, -0.19, -2.14,  3.06,  0.34, -4.32,  1.07])"
      ]
     },
     "execution_count": 9,
     "metadata": {},
     "output_type": "execute_result"
    }
   ],
   "source": [
    "Test_List[0]"
   ]
  },
  {
   "cell_type": "code",
   "execution_count": 10,
   "metadata": {
    "collapsed": false
   },
   "outputs": [],
   "source": [
    "Test_x=[]\n",
    "Test_y=[]\n",
    "for _ in range(len(Test_List)):\n",
    "    Test_x.append(Test_List[_][:70])\n",
    "    Test_y.append(Test_List[_][70:])\n",
    "Test_x = np.array(Test_x)\n",
    "Test_y = np.array(Test_y)\n",
    "\n",
    "Train_x=[]\n",
    "Train_y=[]\n",
    "for _ in range(len(Train_List)):    \n",
    "    Train_x.append(Train_List[_][:70])\n",
    "    Train_y.append(Train_List[_][70:])\n",
    "Train_x = np.array(Train_x)\n",
    "Train_y = np.array(Train_y)\n"
   ]
  },
  {
   "cell_type": "code",
   "execution_count": 11,
   "metadata": {
    "collapsed": false
   },
   "outputs": [
    {
     "data": {
      "text/plain": [
       "array([ 4.08, -0.29,  6.36,  4.37, -2.38, -9.66, -0.73, -5.34,  8.88,\n",
       "        9.22,  6.75,  8.64,  4.42,  7.43,  4.56, -0.97,  4.66, -0.68,\n",
       "        3.3 , -1.21,  0.87,  8.64,  8.35,  9.17,  0.05,  7.57,  4.71,\n",
       "        0.87, -0.39,  6.99,  6.5 , -0.92,  7.14,  9.03, -1.8 ,  0.73,\n",
       "        7.09,  3.4 , -0.87,  7.91,  7.82, -3.83,  8.64,  8.98, -4.32,\n",
       "       -3.2 , -4.9 , -0.92, -1.46,  3.64,  3.16,  9.03,  0.97, -1.31,\n",
       "       -6.5 , -3.2 ,  8.64, -2.14,  0.1 ,  9.03, -6.7 , -3.35, -9.03,\n",
       "        4.47,  4.08, -3.83,  8.74,  1.12,  0.78,  7.52])"
      ]
     },
     "execution_count": 11,
     "metadata": {},
     "output_type": "execute_result"
    }
   ],
   "source": [
    "Test_x[0]"
   ]
  },
  {
   "cell_type": "code",
   "execution_count": 12,
   "metadata": {
    "collapsed": false
   },
   "outputs": [
    {
     "data": {
      "text/plain": [
       "array([-5.  ,  2.77,  8.3 ,  7.77,  7.33,  6.21,  7.72,  8.98,  8.64,\n",
       "        8.2 ,  3.93,  4.85,  4.85,  6.07,  8.98,  4.51, -0.05,  3.69,\n",
       "        4.56,  0.58,  2.82, -4.95, -0.29,  7.86, -0.19, -2.14,  3.06,\n",
       "        0.34, -4.32,  1.07])"
      ]
     },
     "execution_count": 12,
     "metadata": {},
     "output_type": "execute_result"
    }
   ],
   "source": [
    "Test_y[0]"
   ]
  },
  {
   "cell_type": "code",
   "execution_count": 58,
   "metadata": {
    "collapsed": false
   },
   "outputs": [],
   "source": [
    "def regress(Test_x,Train_x,Train_y,n):\n",
    "    import scipy\n",
    "    import numpy as np\n",
    "    out=[]\n",
    "    for _ in range(len(Test_x)):\n",
    "        if _%100==0:\n",
    "            print(_*100/len(Test_x),\" % , Complete\")\n",
    "        out_current=[]\n",
    "        for __ in range(len(Train_y[0])):   \n",
    "            dist=[]\n",
    "            val=[]\n",
    "            for ___ in range(len(Train_y)):\n",
    "                if Train_y[___][__]!=99.0:\n",
    "                    Test_New=[]\n",
    "                    Train_New=[]\n",
    "                    for ____ in range(len(Test_x[0])):\n",
    "                        if Test_x[_][____]==99.0 and Train_x[___][____]==99.0:\n",
    "                            Test_New.append(10.0)\n",
    "                            Train_New.append(-10.0)\n",
    "                        elif Test_x[_][____]!=99.0 and Train_x[___][____]==99.0:\n",
    "                            Test_New.append(Test_x[_][____])\n",
    "                            if Test_x[_][____]<0:\n",
    "                                Train_New.append(10.0)\n",
    "                            else:\n",
    "                                Train_New.append(-10.0)\n",
    "                        elif Test_x[_][____]==99.0 and Train_x[___][____]!=99.0:\n",
    "                            Train_New.append(Train_x[___][____])\n",
    "                            if Train_x[___][____]<0:\n",
    "                                Test_New.append(10.0)\n",
    "                            else:\n",
    "                                Test_New.append(-10.0)\n",
    "                        else:\n",
    "                            Test_New.append(Test_x[_][____])\n",
    "                            Train_New.append(Train_x[___][____])\n",
    "                    Test_New = np.array(Test_New[:n])\n",
    "                    Train_New = np.array(Train_New[:n])\n",
    "                    Distance = scipy.spatial.distance.euclidean(Test_New,Train_New)\n",
    "                    dist.append(1/Distance)\n",
    "                    val.append(Train_y[___][__])\n",
    "            dist = np.array(dist)\n",
    "            total = np.sum(dist)\n",
    "            dist = dist/total\n",
    "            val = np.array(val)\n",
    "            prediction = dist*val\n",
    "            final = np.sum(prediction)\n",
    "            out_current.append(final)\n",
    "        out_current = np.array(out_current)\n",
    "        out.append(out_current)\n",
    "    out = np.array(out)\n",
    "    return out\n",
    "                    \n",
    "                    \n",
    "            "
   ]
  },
  {
   "cell_type": "code",
   "execution_count": 60,
   "metadata": {
    "collapsed": false
   },
   "outputs": [
    {
     "name": "stdout",
     "output_type": "stream",
     "text": [
      "0.0  % , Complete\n"
     ]
    }
   ],
   "source": [
    "out = regress(Test_x[:1],Train_x,Train_y,10)"
   ]
  },
  {
   "cell_type": "code",
   "execution_count": 61,
   "metadata": {
    "collapsed": false
   },
   "outputs": [
    {
     "data": {
      "text/plain": [
       "array([[-2.00912513,  2.09732198,  0.98281595, -2.30749704, -1.18410006,\n",
       "         1.80907622,  0.10335543,  1.34953637, -1.0429071 ,  1.01736053,\n",
       "         1.03429175, -0.53375945,  1.20993897, -0.31691487,  0.21198878,\n",
       "        -0.23834643,  1.42135821,  0.94042904,  2.18012749, -0.78044133,\n",
       "         0.94887701,  0.34672702,  1.40505135,  0.29073561,  0.58720697,\n",
       "         0.58957222,  0.74617654,  0.34594153, -0.3264413 ,  1.03739586]])"
      ]
     },
     "execution_count": 61,
     "metadata": {},
     "output_type": "execute_result"
    }
   ],
   "source": [
    "out"
   ]
  },
  {
   "cell_type": "code",
   "execution_count": 56,
   "metadata": {
    "collapsed": false
   },
   "outputs": [
    {
     "data": {
      "text/plain": [
       "array([[-1.96449539,  2.15449997,  1.04825151, -2.2458837 , -1.11188821,\n",
       "         1.8425136 ,  0.15509356,  1.42137219, -0.97756928,  1.08798092,\n",
       "         1.0985013 , -0.4936451 ,  1.2592789 , -0.26577974,  0.30315912,\n",
       "        -0.21390759,  1.46777686,  0.97089042,  2.19322839, -0.72433451,\n",
       "         0.97768763,  0.37977701,  1.44504968,  0.30688768,  0.61488341,\n",
       "         0.63918798,  0.79148865,  0.42513094, -0.2812577 ,  1.13082436]])"
      ]
     },
     "execution_count": 56,
     "metadata": {},
     "output_type": "execute_result"
    }
   ],
   "source": [
    "out"
   ]
  },
  {
   "cell_type": "code",
   "execution_count": 49,
   "metadata": {
    "collapsed": false
   },
   "outputs": [
    {
     "data": {
      "text/plain": [
       "array([[-2.10512548,  2.06930722,  0.99155391, -2.36594337, -1.22631188,\n",
       "         1.76495342,  0.04804021,  1.3452304 , -1.08205012,  1.0229564 ,\n",
       "         1.0114038 , -0.63190727,  1.18124651, -0.40352451,  0.1812332 ,\n",
       "        -0.33315702,  1.38791786,  0.87984017,  2.08842987, -0.86685641,\n",
       "         0.892147  ,  0.27870989,  1.34642038,  0.21047969,  0.51821891,\n",
       "         0.52230448,  0.65570397,  0.34180065, -0.39988605,  1.01542156]])"
      ]
     },
     "execution_count": 49,
     "metadata": {},
     "output_type": "execute_result"
    }
   ],
   "source": [
    "out"
   ]
  },
  {
   "cell_type": "code",
   "execution_count": 51,
   "metadata": {
    "collapsed": false
   },
   "outputs": [
    {
     "data": {
      "text/plain": [
       "array([-5.  ,  2.77,  8.3 ,  7.77,  7.33,  6.21,  7.72,  8.98,  8.64,\n",
       "        8.2 ,  3.93,  4.85,  4.85,  6.07,  8.98,  4.51, -0.05,  3.69,\n",
       "        4.56,  0.58,  2.82, -4.95, -0.29,  7.86, -0.19, -2.14,  3.06,\n",
       "        0.34, -4.32,  1.07])"
      ]
     },
     "execution_count": 51,
     "metadata": {},
     "output_type": "execute_result"
    }
   ],
   "source": [
    "Test_y[0]"
   ]
  },
  {
   "cell_type": "code",
   "execution_count": 53,
   "metadata": {
    "collapsed": false
   },
   "outputs": [
    {
     "data": {
      "text/plain": [
       "array([ -2.89487452e+00,   7.00692785e-01,   7.30844609e+00,\n",
       "         1.01359434e+01,   8.55631188e+00,   4.44504658e+00,\n",
       "         7.67195979e+00,   7.63476960e+00,   9.72205012e+00,\n",
       "         7.17704360e+00,   2.91859620e+00,   5.48190727e+00,\n",
       "         3.66875349e+00,   6.47352451e+00,   8.79876680e+00,\n",
       "         4.84315702e+00,  -1.43791786e+00,   2.81015983e+00,\n",
       "         2.47157013e+00,   1.44685641e+00,   1.92785300e+00,\n",
       "        -5.22870989e+00,  -1.63642038e+00,   7.64952031e+00,\n",
       "        -7.08218905e-01,  -2.66230448e+00,   2.40429603e+00,\n",
       "        -1.80065169e-03,  -3.92011395e+00,   5.45784386e-02])"
      ]
     },
     "execution_count": 53,
     "metadata": {},
     "output_type": "execute_result"
    }
   ],
   "source": [
    "Test_y[0]-out[0]"
   ]
  },
  {
   "cell_type": "code",
   "execution_count": 57,
   "metadata": {
    "collapsed": false
   },
   "outputs": [
    {
     "data": {
      "text/plain": [
       "array([ -3.03550461,   0.61550003,   7.25174849,  10.0158837 ,\n",
       "         8.44188821,   4.3674864 ,   7.56490644,   7.55862781,\n",
       "         9.61756928,   7.11201908,   2.8314987 ,   5.3436451 ,\n",
       "         3.5907211 ,   6.33577974,   8.67684088,   4.72390759,\n",
       "        -1.51777686,   2.71910958,   2.36677161,   1.30433451,\n",
       "         1.84231237,  -5.32977701,  -1.73504968,   7.55311232,\n",
       "        -0.80488341,  -2.77918798,   2.26851135,  -0.08513094,\n",
       "        -4.0387423 ,  -0.06082436])"
      ]
     },
     "execution_count": 57,
     "metadata": {},
     "output_type": "execute_result"
    }
   ],
   "source": [
    "Test_y[0]-out[0]"
   ]
  },
  {
   "cell_type": "code",
   "execution_count": 62,
   "metadata": {
    "collapsed": false
   },
   "outputs": [
    {
     "data": {
      "text/plain": [
       "array([ -2.99087487e+00,   6.72678024e-01,   7.31718405e+00,\n",
       "         1.00774970e+01,   8.51410006e+00,   4.40092378e+00,\n",
       "         7.61664457e+00,   7.63046363e+00,   9.68290710e+00,\n",
       "         7.18263947e+00,   2.89570825e+00,   5.38375945e+00,\n",
       "         3.64006103e+00,   6.38691487e+00,   8.76801122e+00,\n",
       "         4.74834643e+00,  -1.47135821e+00,   2.74957096e+00,\n",
       "         2.37987251e+00,   1.36044133e+00,   1.87112299e+00,\n",
       "        -5.29672702e+00,  -1.69505135e+00,   7.56926439e+00,\n",
       "        -7.77206969e-01,  -2.72957222e+00,   2.31382346e+00,\n",
       "        -5.94152754e-03,  -3.99355870e+00,   3.26041355e-02])"
      ]
     },
     "execution_count": 62,
     "metadata": {},
     "output_type": "execute_result"
    }
   ],
   "source": [
    "Test_y[0]-out[0]"
   ]
  },
  {
   "cell_type": "code",
   "execution_count": null,
   "metadata": {
    "collapsed": true
   },
   "outputs": [],
   "source": []
  }
 ],
 "metadata": {
  "anaconda-cloud": {},
  "kernelspec": {
   "display_name": "Python [default]",
   "language": "python",
   "name": "python3"
  },
  "language_info": {
   "codemirror_mode": {
    "name": "ipython",
    "version": 3
   },
   "file_extension": ".py",
   "mimetype": "text/x-python",
   "name": "python",
   "nbconvert_exporter": "python",
   "pygments_lexer": "ipython3",
   "version": "3.5.2"
  }
 },
 "nbformat": 4,
 "nbformat_minor": 1
}
